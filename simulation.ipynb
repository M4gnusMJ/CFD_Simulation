{
 "cells": [
  {
   "cell_type": "markdown",
   "metadata": {},
   "source": [
    "Using a 2D nvmpy grid, we'll approximate the continous space of navier stokes. Assuming a uniform cartesian grid, with uniform grid spacing \"h\".<br><br>\n",
    "\n",
    "For each position in the field, we need to store the following <br>\n",
    "- Velocity components in x and y directions : u[i,j], v[i,j]\n",
    "- Pressure at each point : p[i,j]"
   ]
  },
  {
   "cell_type": "code",
   "execution_count": null,
   "metadata": {},
   "outputs": [],
   "source": [
    "import numpy as np\n",
    "import matplotlib.pyplot as plt"
   ]
  },
  {
   "cell_type": "code",
   "execution_count": null,
   "metadata": {},
   "outputs": [],
   "source": [
    "#Domeneparameter:\n",
    "Lx      = 1.0       #Length in x-direction\n",
    "Ly      = 1.0\n",
    "Nx, Ny  = 41, 41    #Number of grid points\n",
    "h       = Lx / (Nx - 1)\n",
    "\n",
    "\n",
    "#Lagrer X og Y koordinatarray:\n",
    "X       = np.linspace(0, Lx, Nx)\n",
    "Y       = np.linspace(0, Ly, Ny)\n",
    "\n",
    "\n",
    "#Fluidparameter:\n",
    "nu      = 0.001 #Kinematisk viskositet\n",
    "rho     = 1000\n",
    "g       = 9.81 \n",
    "\n",
    "\n",
    "#Tidsparameter:\n",
    "dt      = 0.001\n",
    "t_end   = 0.5\n",
    "n_steps = int(t_end / dt)\n",
    "\n",
    "\n",
    "#Initialiserer hastighetsfelt:\n",
    "u       = np.zeros((Ny, Nx))        #NB! Hugs at i er langs y retninga\n",
    "v       = np.zeros((Ny, Nx))"
   ]
  },
  {
   "cell_type": "code",
   "execution_count": null,
   "metadata": {},
   "outputs": [],
   "source": [
    "#Implementere time stepping for diskrete verdier:\n",
    "\n",
    "def calculate_viscous_term_u(u, nu, h, i, j):\n",
    "    \"\"\"Summary:    \n",
    "    Args:\n",
    "    u (numpy.ndarray): 2D array of v-velocity values (shape: (Ny, Nx)).\n",
    "    nu (float): Kinematic viscosity.\n",
    "    h (float): Grid spacing.\n",
    "    i (int): x-index of the grid point.\n",
    "    j (int): y-index of the grid point.\n",
    "\n",
    "    Returns:\n",
    "    float: Viscous term value for v-component at (i, j).\n",
    "    \"\"\"\n",
    "    \n",
    "    return nu * ( (u[j, i+1] + u[j, i-1] - 2*u[j, i]) / h**2  +  (u[j+1, i] + u[j-1, i] - 2*u[j, i]) / h**2 )\n",
    "\n",
    "\n",
    "def calculate_viscous_term_v(v, nu, h, i, j):\n",
    "    \"\"\"Summary:    \n",
    "    Args:\n",
    "    v (numpy.ndarray): 2D array of v-velocity values (shape: (Ny, Nx)).\n",
    "    nu (float): Kinematic viscosity.\n",
    "    h (float): Grid spacing.\n",
    "    i (int): x-index of the grid point.\n",
    "    j (int): y-index of the grid point.\n",
    "\n",
    "    Returns:\n",
    "    float: Viscous term value for v-component at (i, j).\n",
    "    \"\"\"\n",
    "    return nu * ( (v[j+1, i] + v[j-1, i] - 2*v[j, i]) / h**2  +  (v[j, i+1] + v[j, i-1] - 2*v[j, i]) / h**2 )\n",
    "\n",
    "#Used in part of the momentum equation, i.e solving for time\n",
    "def calculate_convective_term_u(u, v, h, i, j):\n",
    "    return -(u[j,i])*(u[j,i+1] - u[j,i-1])/(2*h) + (v[j,i])*(u[j+1,i] - u[j-1,i])/(2*h)\n",
    "\n",
    "def calculate_convective_term_v(u, v, h, i, j):\n",
    "    return -(u[j,i])*(v[j,i+1] - v[j,i-1])/(2*h) + (v[j,i])*(v[j+1,i] - v[j-1,i])/(2*h)"
   ]
  },
  {
   "cell_type": "code",
   "execution_count": null,
   "metadata": {},
   "outputs": [
    {
     "data": {
      "text/plain": [
       "'    #Doing edge cases\\nX_edge = j % (Nx-1) == 0\\nY_edge = i % (Ny-1) == 0\\n\\nif X_edge:\\n    if j == Ny-1:   j_forward   = 0\\n    else:           j_backward  = Ny-1\\nif Y_edge: \\n    if i == Nx-1:   i_forward   = 0\\n    else:           i_backward  = Nx-1'"
      ]
     },
     "execution_count": 6,
     "metadata": {},
     "output_type": "execute_result"
    }
   ],
   "source": [
    "    \"\"\"    \n",
    "    #Defining steps\n",
    "    i_forward   = i + 1\n",
    "    i_backward  = i - 1\n",
    "    j_forward   = j + 1\n",
    "    j_backward  = j - 1\n",
    "    \n",
    "    #Doing edge cases\n",
    "    X_edge = j % (Nx-1) == 0\n",
    "    Y_edge = i % (Ny-1) == 0\n",
    "\n",
    "    if X_edge:\n",
    "        if j == Ny-1:   j_forward   = 0\n",
    "        else:           j_backward  = Ny-1\n",
    "    if Y_edge: \n",
    "        if i == Nx-1:   i_forward   = 0\n",
    "        else:           i_backward  = Nx-1\"\"\""
   ]
  },
  {
   "cell_type": "markdown",
   "metadata": {},
   "source": [
    "Now we need to discretize the derivatives. This can be done using finite difference approximations - for this we will use the central difference approximation: <br> <br>\n",
    "\n",
    "For example, for pressure this becomes: dell p / dell x = (P[i+1,j]- P[i-1,j])/2h.\n",
    "<br><br>\n",
    "\n",
    "Continuing, we need discretizations of the second order derivatives, laplacian operator and the convective term (see notes):  <br><br>\n",
    "\n",
    "For Time, we use the forward difference (we will be stepping forwards in time)\n"
   ]
  },
  {
   "cell_type": "code",
   "execution_count": null,
   "metadata": {},
   "outputs": [],
   "source": [
    "#Forenkla implemetasjon || Ignorerar trykkgradient og Poisson pressure equation\n",
    "#Er som å simulere ei veldig, veldig, viskøs veske der effektene frå trykk er neglisjerbare\n",
    "\n",
    "\n",
    "#Update formula for velocity for each timestep:\n",
    "def u_next(u_prev, timestep, h):\n",
    "    rhs = my*((u_prev, ))\n",
    "    \n"
   ]
  },
  {
   "cell_type": "markdown",
   "metadata": {},
   "source": []
  }
 ],
 "metadata": {
  "kernelspec": {
   "display_name": "Python 3",
   "language": "python",
   "name": "python3"
  },
  "language_info": {
   "codemirror_mode": {
    "name": "ipython",
    "version": 3
   },
   "file_extension": ".py",
   "mimetype": "text/x-python",
   "name": "python",
   "nbconvert_exporter": "python",
   "pygments_lexer": "ipython3",
   "version": "3.11.9"
  }
 },
 "nbformat": 4,
 "nbformat_minor": 2
}
